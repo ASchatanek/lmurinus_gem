{
 "cells": [
  {
   "cell_type": "markdown",
   "metadata": {},
   "source": [
    "## Loading the model"
   ]
  },
  {
   "cell_type": "code",
   "execution_count": null,
   "metadata": {},
   "outputs": [],
   "source": [
    "from src import PathOrganizer\n",
    "import pandas as pd\n",
    "import cobra\n",
    "pd.set_option(\"display.max_rows\", 500)\n",
    "\n",
    "\n",
    "lmur_pathorg = PathOrganizer()\n",
    "model_dir = lmur_pathorg.get_model_version_path(mo_name=\"LigilactobacillusMurinus\")\n",
    "model = lmur_pathorg.load_model(model_dir)"
   ]
  },
  {
   "cell_type": "markdown",
   "metadata": {},
   "source": [
    "## Media Dictionaries"
   ]
  },
  {
   "cell_type": "code",
   "execution_count": null,
   "metadata": {},
   "outputs": [],
   "source": [
    "kwoji_medium = [\n",
    "    \"EX_cpd00588_e0\",\n",
    "    \"EX_cpd00009_e0\",\n",
    "    \"EX_cpd00205_e0\",\n",
    "    \"EX_cpd00067_e0\",\n",
    "    \"EX_cpd00254_e0\",\n",
    "    \"EX_cpd00048_e0\",\n",
    "    \"EX_cpd00001_e0\",\n",
    "    \"EX_cpd00030_e0\",\n",
    "    \"EX_cpd00099_e0\",\n",
    "    \"EX_cpd00013_e0\",\n",
    "    \"EX_cpd00971_e0\",\n",
    "    \"EX_cpd00029_e0\",\n",
    "    \"EX_cpd10515_e0\",\n",
    "    \"EX_cpd00011_e0\",\n",
    "    \"EX_cpd00028_e0\",\n",
    "    \"EX_cpd00322_e0\",\n",
    "    \"EX_cpd00060_e0\",\n",
    "    \"EX_cpd00066_e0\",\n",
    "    \"EX_cpd00119_e0\",\n",
    "    \"EX_cpd00053_e0\",\n",
    "    \"EX_cpd00023_e0\",\n",
    "    \"EX_cpd00132_e0\",\n",
    "    \"EX_cpd00041_e0\",\n",
    "    \"EX_cpd00069_e0\",\n",
    "    \"EX_cpd00065_e0\",\n",
    "    \"EX_cpd00035_e0\",\n",
    "    \"EX_cpd00156_e0\",\n",
    "    \"EX_cpd00051_e0\",\n",
    "    \"EX_cpd00129_e0\",\n",
    "    \"EX_cpd00033_e0\",\n",
    "    \"EX_cpd00039_e0\",\n",
    "    \"EX_cpd00161_e0\",\n",
    "    \"EX_cpd00107_e0\",\n",
    "    \"EX_cpd00054_e0\",\n",
    "    \"EX_cpd00084_e0\",\n",
    "    \"EX_cpd00311_e0\",\n",
    "    \"EX_cpd00182_e0\",\n",
    "    \"EX_cpd01217_e0\",\n",
    "    \"EX_cpd00184_e0\",\n",
    "    \"EX_cpd00092_e0\",\n",
    "    \"EX_cpd00218_e0\",\n",
    "    \"EX_cpd00305_e0\",\n",
    "    \"EX_cpd00220_e0\",\n",
    "    \"EX_cpd00393_e0\",\n",
    "    \"EX_cpd00104_e0\",\n",
    "    \"EX_cpd11606_e0\",\n",
    "    \"EX_cpd01200_e0\",  # palatinose\n",
    "    \"EX_cpd00027_e0\",  # glucose\n",
    "]\n",
    "\n"
   ]
  },
  {
   "cell_type": "markdown",
   "metadata": {},
   "source": [
    "## All Relevant Functions"
   ]
  },
  {
   "cell_type": "code",
   "execution_count": null,
   "metadata": {},
   "outputs": [],
   "source": [
    "def search_reactions(met_id):\n",
    "    met_tgt = model.metabolites.get_by_id(met_id)\n",
    "\n",
    "    for rxn in met_tgt.reactions:\n",
    "        print(f\"{rxn.id} --> {rxn.name}\")\n",
    "        print(rxn.build_reaction_string(use_metabolite_names=True))\n",
    "        print(\"\")\n",
    "        \n",
    "def set_media():\n",
    "    for ex in model.exchanges:\n",
    "        ex.bounds = (-10, 10)\n",
    "\n",
    "    model.reactions.get_by_id(\"EX_cpd00007_e0\").bounds = (0, 100) # Oxygen\n",
    "    \n",
    "    for i in kwoji_medium:\n",
    "        i_p = model.reactions.get_by_id(i)\n",
    "        i_p.bounds = (-100, 100)\n",
    "\n",
    "def gather_media_fluxes():\n",
    "    \n",
    "    model.optimize()\n",
    "    result = model.summary()\n",
    "    \n",
    "    uptake_df = result.uptake_flux.copy()\n",
    "    up_met_names = {}\n",
    "    \n",
    "    for met in uptake_df[\"metabolite\"]:\n",
    "        \n",
    "        upt_tgt = model.metabolites.get_by_id(met)\n",
    "        \n",
    "        up_met_names[met] = upt_tgt.name\n",
    "    \n",
    "    secretion_df = result.secretion_flux.copy()\n",
    "    sec_met_names = {}\n",
    "    \n",
    "    for met in secretion_df[\"metabolite\"]:\n",
    "        \n",
    "        sec_tgt = model.metabolites.get_by_id(met)\n",
    "        \n",
    "        sec_met_names[met] = sec_tgt.name\n",
    "        \n",
    "    uptake_df[\"met. names\"] = uptake_df[\"metabolite\"].map(up_met_names)\n",
    "    \n",
    "    uptake_df = uptake_df\n",
    "    \n",
    "    secretion_df[\"met. names\"] = secretion_df[\"metabolite\"].map(sec_met_names)\n",
    "    \n",
    "    return uptake_df,secretion_df\n",
    "\n",
    "def find_differences(target_df):\n",
    "    \n",
    "    dif_df = target_df[~target_df[\"reaction\"].isin(kwoji_medium)]\n",
    "    return dif_df\n"
   ]
  },
  {
   "cell_type": "markdown",
   "metadata": {},
   "source": [
    "## Results"
   ]
  },
  {
   "cell_type": "code",
   "execution_count": null,
   "metadata": {},
   "outputs": [],
   "source": [
    "set_media()"
   ]
  },
  {
   "cell_type": "code",
   "execution_count": null,
   "metadata": {},
   "outputs": [],
   "source": [
    "u,s = gather_media_fluxes()"
   ]
  },
  {
   "cell_type": "code",
   "execution_count": null,
   "metadata": {},
   "outputs": [],
   "source": [
    "# u.loc[:,[\"met. names\", \"flux\", \"reaction\"]]\n",
    "find_differences(target_df=u)"
   ]
  },
  {
   "cell_type": "code",
   "execution_count": null,
   "metadata": {},
   "outputs": [],
   "source": [
    "find_differences(target_df=s)"
   ]
  },
  {
   "cell_type": "code",
   "execution_count": null,
   "metadata": {},
   "outputs": [],
   "source": [
    "model.metabolites.get_by_id(\"cpd11416_c0\")"
   ]
  },
  {
   "cell_type": "code",
   "execution_count": null,
   "metadata": {},
   "outputs": [],
   "source": [
    "for met in model.reactions.get_by_id(\"bio1\").metabolites:\n",
    "    print(met.id)\n",
    "    print(met.name)\n",
    "    print(\"\")"
   ]
  },
  {
   "cell_type": "code",
   "execution_count": null,
   "metadata": {},
   "outputs": [],
   "source": [
    "model.metabolites.get_by_id(\"cpd15668_c0\")"
   ]
  },
  {
   "cell_type": "markdown",
   "metadata": {},
   "source": [
    "## Code Guidelines and Whatnot"
   ]
  },
  {
   "cell_type": "code",
   "execution_count": null,
   "metadata": {},
   "outputs": [],
   "source": [
    "model.reactions.get_by_id(\"rxn10196_c0\")"
   ]
  },
  {
   "cell_type": "code",
   "execution_count": null,
   "metadata": {},
   "outputs": [],
   "source": [
    "# metID_compartment = Metabolite(\n",
    "#                     id=             \"\",\n",
    "#                     name=           \"\",\n",
    "#                     formula=        \"\",\n",
    "#                     compartment=    \"\",\n",
    "#                     )\n",
    "\n",
    "# model.add_metabolites() # Add the Metabolite variable\n",
    "\n",
    "# model.add_boundary(model.metabolites.get_by_id(\"desired_met\"), type=\"exchange\")\n",
    "\n",
    "# rxn10892_c0 = Reaction(\n",
    "#                     id=\"\",\n",
    "#                     name=\"\",\n",
    "#                     subsystem=\"\",\n",
    "#                     lower_bound=-1000,  # default\n",
    "#                     upper_bound=1000,   # default\n",
    "#                     )\n",
    "\n",
    "# model.add_reactions([rxn10892_c0])\n",
    "\n",
    "# met1_c0 = model.metabolites.get_by_id(\"\")  # Met 1 c0\n",
    "# met1_e0 = model.metabolites.get_by_id(\"\")  # Met 1 e0\n",
    "# met2_c0 = model.metabolites.get_by_id(\"\")  # Met 2 c0\n",
    "# met2_e0 = model.metabolites.get_by_id(\"\")  # Met 2 e0\n",
    "\n",
    "# target_reaction.add_metabolites(\n",
    "#     {met1_e0: -1.0, met2_e0: -1.0, met1_c0: 1.0, met2_c0: 1.0}\n",
    "# )"
   ]
  }
 ],
 "metadata": {
  "kernelspec": {
   "display_name": "Python 3",
   "language": "python",
   "name": "python3"
  },
  "language_info": {
   "codemirror_mode": {
    "name": "ipython",
    "version": 3
   },
   "file_extension": ".py",
   "mimetype": "text/x-python",
   "name": "python",
   "nbconvert_exporter": "python",
   "pygments_lexer": "ipython3",
   "version": "3.10.5"
  }
 },
 "nbformat": 4,
 "nbformat_minor": 2
}
