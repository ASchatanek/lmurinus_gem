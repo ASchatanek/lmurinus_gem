{
 "cells": [
  {
   "cell_type": "markdown",
   "metadata": {},
   "source": [
    "## Loading the model"
   ]
  },
  {
   "cell_type": "code",
   "execution_count": 1,
   "metadata": {},
   "outputs": [
    {
     "name": "stdout",
     "output_type": "stream",
     "text": [
      "Hello World\n"
     ]
    }
   ],
   "source": [
    "from src import PathOrganizer\n",
    "from src import ExploratoryFunctions as es\n",
    "\n",
    "import pandas as pd\n",
    "import cobra\n",
    "from cobra.flux_analysis import flux_variability_analysis as fva\n",
    "\n",
    "pd.set_option(\"display.max_rows\", 500)"
   ]
  },
  {
   "cell_type": "markdown",
   "metadata": {},
   "source": [
    "## Media Dictionaries"
   ]
  },
  {
   "cell_type": "code",
   "execution_count": 2,
   "metadata": {},
   "outputs": [],
   "source": [
    "kwoji = {\n",
    "    \"EX_cpd00001_e0\": (-1000, 1000),\n",
    "    \"EX_cpd00009_e0\": (-60, 1000),\n",
    "    \"EX_cpd00011_e0\": (-2, 1000),\n",
    "    \"EX_cpd00013_e0\": (-40, 1000),\n",
    "    \"EX_cpd00023_e0\": (-2, 1000),\n",
    "    \"EX_cpd00028_e0\": (-0.05, 1000),\n",
    "    \"EX_cpd00029_e0\": (-50, 1000),\n",
    "    \"EX_cpd00030_e0\": (-0.25, 1000),\n",
    "    \"EX_cpd00033_e0\": (-1, 1000),\n",
    "    \"EX_cpd00035_e0\": (-1, 1000),\n",
    "    \"EX_cpd00039_e0\": (-1, 1000),\n",
    "    \"EX_cpd00041_e0\": (-2, 1000),\n",
    "    \"EX_cpd00048_e0\": (-76.35, 1000),\n",
    "    \"EX_cpd00051_e0\": (-1, 1000),\n",
    "    \"EX_cpd00053_e0\": (-2, 1000),\n",
    "    \"EX_cpd00054_e0\": (-1, 1000),\n",
    "    \"EX_cpd00060_e0\": (-1, 1000),\n",
    "    \"EX_cpd00065_e0\": (-1, 1000),\n",
    "    \"EX_cpd00066_e0\": (-1, 1000),\n",
    "    \"EX_cpd00067_e0\": (-1000, 1000),\n",
    "    \"EX_cpd00069_e0\": (-1, 1000),\n",
    "    \"EX_cpd00084_e0\": (-2, 1000),\n",
    "    \"EX_cpd00092_e0\": (-0.1, 1000),\n",
    "    \"EX_cpd00099_e0\": (-20, 1000),\n",
    "    \"EX_cpd00104_e0\": (-0.005, 1000),\n",
    "    \"EX_cpd00107_e0\": (-1, 1000),\n",
    "    \"EX_cpd00119_e0\": (-2.5, 1000),\n",
    "    \"EX_cpd00129_e0\": (-1, 1000),\n",
    "    \"EX_cpd00132_e0\": (-2, 1000),\n",
    "    \"EX_cpd00156_e0\": (-1, 1000),\n",
    "    \"EX_cpd00161_e0\": (-1, 1000),\n",
    "    \"EX_cpd00182_e0\": (-0.1, 1000),\n",
    "    \"EX_cpd00184_e0\": (-0.1, 1000),\n",
    "    \"EX_cpd00205_e0\": (-90, 1000),\n",
    "    \"EX_cpd00218_e0\": (-0.001, 1000),\n",
    "    \"EX_cpd00220_e0\": (-0.001, 1000),\n",
    "    \"EX_cpd00254_e0\": (-25, 1000),\n",
    "    \"EX_cpd00305_e0\": (-0.001, 1000),\n",
    "    \"EX_cpd00311_e0\": (-0.1, 1000),\n",
    "    \"EX_cpd00322_e0\": (-2, 1000),\n",
    "    \"EX_cpd00393_e0\": (-0.001, 1000),\n",
    "    \"EX_cpd00588_e0\": (-10, 1000),\n",
    "    \"EX_cpd00644_e0\": (-0.001, 1000),\n",
    "    \"EX_cpd00971_e0\": (-100, 1000),\n",
    "    \"EX_cpd01217_e0\": (-0.1, 1000),\n",
    "    \"EX_cpd10515_e0\": (-0.2, 1000),\n",
    "    \"EX_cpd11606_e0\": (-0.01, 1000),\n",
    "}\n",
    "\n",
    "closed_uptake = [\n",
    "    \"EX_cpd00007_e0\",  # Oxygen\n",
    "]\n",
    "\n",
    "essential = [\n",
    "    \"EX_cpd00034_e0\",  # Zn2+\n",
    "    \"EX_cpd00058_e0\",  # Cu2+\n",
    "    \"EX_cpd00063_e0\",  # Ca2+\n",
    "    \"EX_cpd00149_e0\",  # Co2+\n",
    "    \"EX_cpd10516_e0\",  # fe3\n",
    "]\n",
    "\n",
    "c_sources = [\n",
    "    \"EX_cpd00027_e0\",  # glucose\n",
    "    \"EX_cpd01200_e0\",  # palatinose\n",
    "    \"EX_cpd00076_e0\",  # sucrose\n",
    "    \"EX_cpd00082_e0\",  # fructose\n",
    "]"
   ]
  },
  {
   "cell_type": "code",
   "execution_count": null,
   "metadata": {},
   "outputs": [],
   "source": []
  },
  {
   "cell_type": "markdown",
   "metadata": {},
   "source": [
    "## All Relevant Variables"
   ]
  },
  {
   "cell_type": "code",
   "execution_count": 3,
   "metadata": {},
   "outputs": [
    {
     "name": "stdout",
     "output_type": "stream",
     "text": [
      "Available Model Versions:\n",
      "0) 0.0.0.sbml\n",
      "1) 1.1.1.sbml\n",
      "2) 1.1.2.sbml\n",
      "3) 1.1.3.sbml\n",
      "4) 1.1.4.sbml\n",
      "5) 1.1.5.sbml\n",
      "6) 2.1.1.sbml\n",
      "7) 2.2.1.sbml\n",
      "8) 2.2.2.sbml\n",
      "9) 2.2.3.sbml\n",
      "10) 2.2.4.sbml\n",
      "11) 2.2.5.sbml\n",
      "12) 2.2.6.sbml\n",
      "13) 2.2.7.sbml\n",
      "14) pickles\n"
     ]
    }
   ],
   "source": [
    "lmur_pathorg = PathOrganizer()\n",
    "model_dir = lmur_pathorg.get_model_version_path(mo_name=\"LigilactobacillusMurinus\")\n",
    "model = lmur_pathorg.load_model(model_dir)"
   ]
  },
  {
   "cell_type": "code",
   "execution_count": 4,
   "metadata": {},
   "outputs": [
    {
     "name": "stderr",
     "output_type": "stream",
     "text": [
      "Could not identify an external compartment by name and choosing one with the most boundary reactions. That might be complete nonsense or change suddenly. Consider renaming your compartments using `Model.compartments` to fix this.\n"
     ]
    }
   ],
   "source": [
    "exploration = es()\n",
    "exploration.set_media(\n",
    "    model=model, medium=kwoji, essential=essential, closed=closed_uptake\n",
    ")\n",
    "u, s = exploration.gather_media_fluxes(model=model)\n",
    "\n",
    "dif_u = exploration.find_differences(target_df=u, medium=kwoji)\n",
    "dif_s = exploration.find_differences(target_df=s, medium=kwoji)"
   ]
  },
  {
   "cell_type": "markdown",
   "metadata": {},
   "source": [
    "## Results"
   ]
  },
  {
   "cell_type": "code",
   "execution_count": 5,
   "metadata": {},
   "outputs": [
    {
     "data": {
      "text/html": [
       "<div>\n",
       "<style scoped>\n",
       "    .dataframe tbody tr th:only-of-type {\n",
       "        vertical-align: middle;\n",
       "    }\n",
       "\n",
       "    .dataframe tbody tr th {\n",
       "        vertical-align: top;\n",
       "    }\n",
       "\n",
       "    .dataframe thead th {\n",
       "        text-align: right;\n",
       "    }\n",
       "</style>\n",
       "<table border=\"1\" class=\"dataframe\">\n",
       "  <thead>\n",
       "    <tr style=\"text-align: right;\">\n",
       "      <th></th>\n",
       "      <th>Met. Name</th>\n",
       "      <th>FBA Result</th>\n",
       "      <th>Flux</th>\n",
       "    </tr>\n",
       "  </thead>\n",
       "  <tbody>\n",
       "    <tr>\n",
       "      <th>w/o C-Source</th>\n",
       "      <td>NaN</td>\n",
       "      <td>0.096800</td>\n",
       "      <td>NaN</td>\n",
       "    </tr>\n",
       "    <tr>\n",
       "      <th>EX_cpd00027_e0</th>\n",
       "      <td>D-Glucose-e0</td>\n",
       "      <td>0.096796</td>\n",
       "      <td>-0.22466</td>\n",
       "    </tr>\n",
       "    <tr>\n",
       "      <th>EX_cpd01200_e0</th>\n",
       "      <td>Palatinose-e0</td>\n",
       "      <td>0.096796</td>\n",
       "      <td>-0.11233</td>\n",
       "    </tr>\n",
       "    <tr>\n",
       "      <th>EX_cpd00076_e0</th>\n",
       "      <td>Sucrose-e0</td>\n",
       "      <td>0.096796</td>\n",
       "      <td>-0.11233</td>\n",
       "    </tr>\n",
       "    <tr>\n",
       "      <th>EX_cpd00082_e0</th>\n",
       "      <td>D-Fructose-e0</td>\n",
       "      <td>0.096796</td>\n",
       "      <td>-0.22432</td>\n",
       "    </tr>\n",
       "  </tbody>\n",
       "</table>\n",
       "</div>"
      ],
      "text/plain": [
       "                    Met. Name  FBA Result     Flux\n",
       "w/o C-Source              NaN    0.096800      NaN\n",
       "EX_cpd00027_e0   D-Glucose-e0    0.096796 -0.22466\n",
       "EX_cpd01200_e0  Palatinose-e0    0.096796 -0.11233\n",
       "EX_cpd00076_e0     Sucrose-e0    0.096796 -0.11233\n",
       "EX_cpd00082_e0  D-Fructose-e0    0.096796 -0.22432"
      ]
     },
     "execution_count": 5,
     "metadata": {},
     "output_type": "execute_result"
    }
   ],
   "source": [
    "exploration.test_carbon_sources(model=model, carbon_list=c_sources)"
   ]
  },
  {
   "cell_type": "code",
   "execution_count": 11,
   "metadata": {},
   "outputs": [
    {
     "name": "stderr",
     "output_type": "stream",
     "text": [
      "Could not identify an external compartment by name and choosing one with the most boundary reactions. That might be complete nonsense or change suddenly. Consider renaming your compartments using `Model.compartments` to fix this.\n"
     ]
    },
    {
     "name": "stderr",
     "output_type": "stream",
     "text": [
      "Could not identify an external compartment by name and choosing one with the most boundary reactions. That might be complete nonsense or change suddenly. Consider renaming your compartments using `Model.compartments` to fix this.\n"
     ]
    },
    {
     "name": "stdout",
     "output_type": "stream",
     "text": [
      "                   minimum       maximum\n",
      "EX_cpd00001_e0 -913.221446  1.717277e+02\n",
      "EX_cpd00009_e0  -60.000000 -1.233710e-01\n",
      "EX_cpd00011_e0   -1.896663  1.000000e+03\n",
      "EX_cpd00013_e0  -40.000000  1.797401e+01\n",
      "EX_cpd00023_e0   -2.000000  1.939422e+00\n",
      "EX_cpd00028_e0   -0.000500  1.795766e-01\n",
      "EX_cpd00029_e0  -50.000000  6.986146e+02\n",
      "EX_cpd00030_e0   -0.000706 -6.707594e-04\n",
      "EX_cpd00033_e0   -1.000000  4.404130e-01\n",
      "EX_cpd00035_e0   -1.000000  5.697401e+01\n",
      "EX_cpd00039_e0   -0.036360  3.933628e+00\n",
      "EX_cpd00041_e0   -2.000000  1.968170e+00\n",
      "EX_cpd00048_e0   -0.000706 -6.707594e-04\n",
      "EX_cpd00051_e0   -1.000000 -2.158756e-02\n",
      "EX_cpd00053_e0   -2.000000  1.939422e+00\n",
      "EX_cpd00054_e0   -1.000000  9.265181e-01\n",
      "EX_cpd00060_e0   -1.000000 -1.401145e-02\n",
      "EX_cpd00065_e0   -0.006121 -5.815245e-03\n",
      "EX_cpd00066_e0   -0.019791 -1.880117e-02\n",
      "EX_cpd00067_e0  -67.927771  1.000000e+03\n",
      "EX_cpd00069_e0   -0.012973 -1.184911e-02\n",
      "EX_cpd00084_e0   -2.000000 -6.552587e-03\n",
      "EX_cpd00092_e0   -0.100000  3.957926e+00\n",
      "EX_cpd00099_e0   -0.000706 -6.707594e-04\n",
      "EX_cpd00104_e0    0.000000  0.000000e+00\n",
      "EX_cpd00107_e0   -0.047223 -4.486212e-02\n",
      "EX_cpd00119_e0   -0.009205 -8.744729e-03\n",
      "EX_cpd00129_e0   -0.018088  3.922239e+00\n",
      "EX_cpd00132_e0   -2.000000  1.968170e+00\n",
      "EX_cpd00156_e0   -0.034565 -3.283646e-02\n",
      "EX_cpd00161_e0   -1.000000  3.948232e+00\n",
      "EX_cpd00182_e0   -0.100000  2.017489e+00\n",
      "EX_cpd00184_e0   -0.001382  0.000000e+00\n",
      "EX_cpd00205_e0   -0.000706 -6.707594e-04\n",
      "EX_cpd00218_e0   -0.001000 -9.500000e-04\n",
      "EX_cpd00220_e0   -0.001000 -9.500000e-04\n",
      "EX_cpd00254_e0   -0.000706 -6.707594e-04\n",
      "EX_cpd00305_e0   -0.000500  1.996552e-19\n",
      "EX_cpd00311_e0   -0.100000  2.108510e+00\n",
      "EX_cpd00322_e0   -0.038571 -3.664208e-02\n",
      "EX_cpd00393_e0   -0.001000  0.000000e+00\n",
      "EX_cpd00588_e0  -10.000000  0.000000e+00\n",
      "EX_cpd00644_e0   -0.001000 -9.500000e-04\n",
      "EX_cpd00971_e0    0.000000 -4.971372e-14\n",
      "EX_cpd01217_e0   -0.100000  2.017489e+00\n",
      "EX_cpd10515_e0   -0.181197 -1.145759e-03\n",
      "EX_cpd11606_e0   -0.010000  0.000000e+00\n",
      "\n"
     ]
    },
    {
     "name": "stderr",
     "output_type": "stream",
     "text": [
      "Could not identify an external compartment by name and choosing one with the most boundary reactions. That might be complete nonsense or change suddenly. Consider renaming your compartments using `Model.compartments` to fix this.\n"
     ]
    },
    {
     "name": "stdout",
     "output_type": "stream",
     "text": [
      "                     minimum       maximum\n",
      "EX_cpd00001_e0 -1.000000e+03  1.239050e+02\n",
      "EX_cpd00009_e0 -6.000000e+01 -1.233710e-01\n",
      "EX_cpd00011_e0 -1.896663e+00  1.000000e+03\n",
      "EX_cpd00013_e0 -4.000000e+01  1.797401e+01\n",
      "EX_cpd00023_e0 -2.000000e+00  1.939422e+00\n",
      "EX_cpd00028_e0 -5.000000e-04  1.795766e-01\n",
      "EX_cpd00029_e0 -5.000000e+01  6.791130e+02\n",
      "EX_cpd00030_e0 -7.060625e-04 -6.707594e-04\n",
      "EX_cpd00033_e0 -1.000000e+00  4.404130e-01\n",
      "EX_cpd00035_e0 -1.000000e+00  5.697401e+01\n",
      "EX_cpd00039_e0 -3.635966e-02  3.933628e+00\n",
      "EX_cpd00041_e0 -2.000000e+00  1.968170e+00\n",
      "EX_cpd00048_e0 -7.060625e-04 -6.707594e-04\n",
      "EX_cpd00051_e0 -1.000000e+00 -2.158756e-02\n",
      "EX_cpd00053_e0 -2.000000e+00  1.939422e+00\n",
      "EX_cpd00054_e0 -1.000000e+00  9.265181e-01\n",
      "EX_cpd00060_e0 -1.000000e+00 -1.401145e-02\n",
      "EX_cpd00065_e0 -6.121310e-03 -5.815245e-03\n",
      "EX_cpd00066_e0 -1.979070e-02 -1.880117e-02\n",
      "EX_cpd00067_e0 -6.792777e+01  1.000000e+03\n",
      "EX_cpd00069_e0 -1.297274e-02 -1.184911e-02\n",
      "EX_cpd00084_e0 -2.000000e+00 -6.552587e-03\n",
      "EX_cpd00092_e0 -1.000000e-01  3.957926e+00\n",
      "EX_cpd00099_e0 -7.060625e-04 -6.707594e-04\n",
      "EX_cpd00104_e0  0.000000e+00  0.000000e+00\n",
      "EX_cpd00107_e0 -4.722329e-02 -4.486212e-02\n",
      "EX_cpd00119_e0 -9.204978e-03 -8.744729e-03\n",
      "EX_cpd00129_e0 -1.808778e-02  3.922239e+00\n",
      "EX_cpd00132_e0 -2.000000e+00  1.968170e+00\n",
      "EX_cpd00156_e0 -3.456469e-02 -3.283646e-02\n",
      "EX_cpd00161_e0 -1.000000e+00  3.948232e+00\n",
      "EX_cpd00182_e0 -1.000000e-01  2.017489e+00\n",
      "EX_cpd00184_e0 -1.381978e-03  0.000000e+00\n",
      "EX_cpd00205_e0 -7.060625e-04 -6.707594e-04\n",
      "EX_cpd00218_e0 -1.000000e-03 -9.500000e-04\n",
      "EX_cpd00220_e0 -1.000000e-03 -9.500000e-04\n",
      "EX_cpd00254_e0 -7.060625e-04 -6.707594e-04\n",
      "EX_cpd00305_e0 -5.000000e-04  6.655174e-20\n",
      "EX_cpd00311_e0 -1.000000e-01  2.108510e+00\n",
      "EX_cpd00322_e0 -3.857061e-02 -3.664208e-02\n",
      "EX_cpd00393_e0 -1.000000e-03  0.000000e+00\n",
      "EX_cpd00588_e0 -1.000000e+01  1.000000e+03\n",
      "EX_cpd00644_e0 -1.000000e-03 -9.500000e-04\n",
      "EX_cpd00971_e0 -1.545934e-16 -2.428941e-16\n",
      "EX_cpd01217_e0 -1.000000e-01  2.017489e+00\n",
      "EX_cpd10515_e0 -1.811974e-01 -1.145759e-03\n",
      "EX_cpd11606_e0 -1.000000e-02  0.000000e+00\n",
      "\n"
     ]
    },
    {
     "name": "stderr",
     "output_type": "stream",
     "text": [
      "Could not identify an external compartment by name and choosing one with the most boundary reactions. That might be complete nonsense or change suddenly. Consider renaming your compartments using `Model.compartments` to fix this.\n"
     ]
    },
    {
     "name": "stdout",
     "output_type": "stream",
     "text": [
      "                     minimum       maximum\n",
      "EX_cpd00001_e0 -1.000000e+03  1.239050e+02\n",
      "EX_cpd00009_e0 -6.000000e+01 -1.233710e-01\n",
      "EX_cpd00011_e0 -1.896663e+00  1.000000e+03\n",
      "EX_cpd00013_e0 -4.000000e+01  1.797401e+01\n",
      "EX_cpd00023_e0 -2.000000e+00  1.939422e+00\n",
      "EX_cpd00028_e0 -5.000000e-04  1.795766e-01\n",
      "EX_cpd00029_e0 -5.000000e+01  6.791130e+02\n",
      "EX_cpd00030_e0 -7.060625e-04 -6.707594e-04\n",
      "EX_cpd00033_e0 -1.000000e+00  4.404130e-01\n",
      "EX_cpd00035_e0 -1.000000e+00  5.697401e+01\n",
      "EX_cpd00039_e0 -3.635966e-02  3.933628e+00\n",
      "EX_cpd00041_e0 -2.000000e+00  1.968170e+00\n",
      "EX_cpd00048_e0 -7.060625e-04 -6.707594e-04\n",
      "EX_cpd00051_e0 -1.000000e+00 -2.158756e-02\n",
      "EX_cpd00053_e0 -2.000000e+00  1.939422e+00\n",
      "EX_cpd00054_e0 -1.000000e+00  9.265181e-01\n",
      "EX_cpd00060_e0 -1.000000e+00 -1.401145e-02\n",
      "EX_cpd00065_e0 -6.121310e-03 -5.815245e-03\n",
      "EX_cpd00066_e0 -1.979070e-02 -1.880117e-02\n",
      "EX_cpd00067_e0 -6.792777e+01  1.000000e+03\n",
      "EX_cpd00069_e0 -1.297274e-02 -1.184911e-02\n",
      "EX_cpd00084_e0 -2.000000e+00 -6.552587e-03\n",
      "EX_cpd00092_e0 -1.000000e-01  3.957926e+00\n",
      "EX_cpd00099_e0 -7.060625e-04 -6.707594e-04\n",
      "EX_cpd00104_e0  0.000000e+00  0.000000e+00\n",
      "EX_cpd00107_e0 -4.722329e-02 -4.486212e-02\n",
      "EX_cpd00119_e0 -9.204978e-03 -8.744729e-03\n",
      "EX_cpd00129_e0 -1.808778e-02  3.922239e+00\n",
      "EX_cpd00132_e0 -2.000000e+00  1.968170e+00\n",
      "EX_cpd00156_e0 -3.456469e-02 -3.283646e-02\n",
      "EX_cpd00161_e0 -1.000000e+00  3.948232e+00\n",
      "EX_cpd00182_e0 -1.000000e-01  2.017489e+00\n",
      "EX_cpd00184_e0 -1.381978e-03  0.000000e+00\n",
      "EX_cpd00205_e0 -7.060625e-04 -6.707594e-04\n",
      "EX_cpd00218_e0 -1.000000e-03 -9.500000e-04\n",
      "EX_cpd00220_e0 -1.000000e-03 -9.500000e-04\n",
      "EX_cpd00254_e0 -7.060625e-04 -6.707594e-04\n",
      "EX_cpd00305_e0 -5.000000e-04  1.331035e-19\n",
      "EX_cpd00311_e0 -1.000000e-01  2.108510e+00\n",
      "EX_cpd00322_e0 -3.857061e-02 -3.664208e-02\n",
      "EX_cpd00393_e0 -1.000000e-03  0.000000e+00\n",
      "EX_cpd00588_e0 -1.000000e+01  1.000000e+03\n",
      "EX_cpd00644_e0 -1.000000e-03 -9.500000e-04\n",
      "EX_cpd00971_e0  3.067713e-16  2.122975e-16\n",
      "EX_cpd01217_e0 -1.000000e-01  2.017489e+00\n",
      "EX_cpd10515_e0 -1.811974e-01 -1.145759e-03\n",
      "EX_cpd11606_e0 -1.000000e-02  0.000000e+00\n",
      "\n",
      "                   minimum       maximum\n",
      "EX_cpd00001_e0 -913.221446  1.717277e+02\n",
      "EX_cpd00009_e0  -60.000000 -1.233710e-01\n",
      "EX_cpd00011_e0   -1.896663  1.000000e+03\n",
      "EX_cpd00013_e0  -40.000000  1.797401e+01\n",
      "EX_cpd00023_e0   -2.000000  1.939422e+00\n",
      "EX_cpd00028_e0   -0.000500  1.795766e-01\n",
      "EX_cpd00029_e0  -50.000000  7.338081e+02\n",
      "EX_cpd00030_e0   -0.000706 -6.707594e-04\n",
      "EX_cpd00033_e0   -1.000000  4.404130e-01\n",
      "EX_cpd00035_e0   -1.000000  5.697401e+01\n",
      "EX_cpd00039_e0   -0.036360  3.933628e+00\n",
      "EX_cpd00041_e0   -2.000000  1.968170e+00\n",
      "EX_cpd00048_e0   -0.000706 -6.707594e-04\n",
      "EX_cpd00051_e0   -1.000000 -2.158756e-02\n",
      "EX_cpd00053_e0   -2.000000  1.939422e+00\n",
      "EX_cpd00054_e0   -1.000000  9.265181e-01\n",
      "EX_cpd00060_e0   -1.000000 -1.401145e-02\n",
      "EX_cpd00065_e0   -0.006121 -5.815245e-03\n",
      "EX_cpd00066_e0   -0.019791 -1.880117e-02\n",
      "EX_cpd00067_e0  -67.927771  1.000000e+03\n",
      "EX_cpd00069_e0   -0.012973 -1.184911e-02\n",
      "EX_cpd00084_e0   -2.000000 -6.552587e-03\n",
      "EX_cpd00092_e0   -0.100000  3.957926e+00\n",
      "EX_cpd00099_e0   -0.000706 -6.707594e-04\n",
      "EX_cpd00104_e0    0.000000  0.000000e+00\n",
      "EX_cpd00107_e0   -0.047223 -4.486212e-02\n",
      "EX_cpd00119_e0   -0.009205 -8.744729e-03\n",
      "EX_cpd00129_e0   -0.018088  3.922239e+00\n",
      "EX_cpd00132_e0   -2.000000  1.968170e+00\n",
      "EX_cpd00156_e0   -0.034565 -3.283646e-02\n",
      "EX_cpd00161_e0   -1.000000  3.948232e+00\n",
      "EX_cpd00182_e0   -0.100000  2.017489e+00\n",
      "EX_cpd00184_e0   -0.001382  0.000000e+00\n",
      "EX_cpd00205_e0   -0.000706 -6.707594e-04\n",
      "EX_cpd00218_e0   -0.001000 -9.500000e-04\n",
      "EX_cpd00220_e0   -0.001000 -9.500000e-04\n",
      "EX_cpd00254_e0   -0.000706 -6.707594e-04\n",
      "EX_cpd00305_e0   -0.000500  0.000000e+00\n",
      "EX_cpd00311_e0   -0.100000  2.108510e+00\n",
      "EX_cpd00322_e0   -0.038571 -3.664208e-02\n",
      "EX_cpd00393_e0   -0.001000  0.000000e+00\n",
      "EX_cpd00588_e0  -10.000000  9.243348e+02\n",
      "EX_cpd00644_e0   -0.001000 -9.500000e-04\n",
      "EX_cpd00971_e0    0.000000  3.067713e-16\n",
      "EX_cpd01217_e0   -0.100000  2.017489e+00\n",
      "EX_cpd10515_e0   -0.181197 -1.145759e-03\n",
      "EX_cpd11606_e0   -0.010000  0.000000e+00\n",
      "\n"
     ]
    }
   ],
   "source": [
    "kwoji_list = list(kwoji.keys())\n",
    "for c in c_sources:\n",
    "    exploration.set_media(\n",
    "    model=model, medium=kwoji, essential=essential, closed=closed_uptake\n",
    ")\n",
    "    with model:\n",
    "        c_tgt = model.reactions.get_by_id(c)\n",
    "        c_tgt.bounds = (-1000,1000)\n",
    "        result_fva = fva(model=model, reaction_list=kwoji_list,fraction_of_optimum=0.95)\n",
    "        print(result_fva)\n",
    "        print(\"\")"
   ]
  },
  {
   "cell_type": "code",
   "execution_count": 8,
   "metadata": {},
   "outputs": [
    {
     "data": {
      "text/plain": [
       "dict_keys"
      ]
     },
     "execution_count": 8,
     "metadata": {},
     "output_type": "execute_result"
    }
   ],
   "source": []
  },
  {
   "cell_type": "markdown",
   "metadata": {},
   "source": [
    "## Code Guidelines and Whatnot"
   ]
  }
 ],
 "metadata": {
  "kernelspec": {
   "display_name": "Python 3",
   "language": "python",
   "name": "python3"
  },
  "language_info": {
   "codemirror_mode": {
    "name": "ipython",
    "version": 3
   },
   "file_extension": ".py",
   "mimetype": "text/x-python",
   "name": "python",
   "nbconvert_exporter": "python",
   "pygments_lexer": "ipython3",
   "version": "3.10.5"
  }
 },
 "nbformat": 4,
 "nbformat_minor": 2
}
