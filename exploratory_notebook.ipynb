{
 "cells": [
  {
   "cell_type": "markdown",
   "metadata": {},
   "source": [
    "## Loading the model"
   ]
  },
  {
   "cell_type": "code",
   "execution_count": null,
   "metadata": {},
   "outputs": [],
   "source": [
    "from src import PathOrganizer\n",
    "from src import ExploratoryFunctions as es\n",
    "\n",
    "import pandas as pd\n",
    "import cobra\n",
    "from cobra.flux_analysis import flux_variability_analysis as fva\n",
    "\n",
    "pd.set_option(\"display.max_rows\", 500)"
   ]
  },
  {
   "cell_type": "markdown",
   "metadata": {},
   "source": [
    "## Media Dictionaries"
   ]
  },
  {
   "cell_type": "code",
   "execution_count": null,
   "metadata": {},
   "outputs": [],
   "source": [
    "kwoji = {\n",
    "    \"EX_cpd00001_e0\": (-1000, 1000),\n",
    "    \"EX_cpd00009_e0\": (-60, 1000),\n",
    "    \"EX_cpd00011_e0\": (-2, 1000),\n",
    "    \"EX_cpd00013_e0\": (-40, 1000),\n",
    "    \"EX_cpd00023_e0\": (-2, 1000),\n",
    "    \"EX_cpd00028_e0\": (-0.05, 1000),\n",
    "    \"EX_cpd00029_e0\": (-50, 1000),\n",
    "    \"EX_cpd00030_e0\": (-0.25, 1000),\n",
    "    \"EX_cpd00033_e0\": (-1, 1000),\n",
    "    \"EX_cpd00035_e0\": (-1, 1000),\n",
    "    \"EX_cpd00039_e0\": (-1, 1000),\n",
    "    \"EX_cpd00041_e0\": (-2, 1000),\n",
    "    \"EX_cpd00048_e0\": (-76.35, 1000),\n",
    "    \"EX_cpd00051_e0\": (-1, 1000),\n",
    "    \"EX_cpd00053_e0\": (-2, 1000),\n",
    "    \"EX_cpd00054_e0\": (-1, 1000),\n",
    "    \"EX_cpd00060_e0\": (-1, 1000),\n",
    "    \"EX_cpd00065_e0\": (-1, 1000),\n",
    "    \"EX_cpd00066_e0\": (-1, 1000),\n",
    "    \"EX_cpd00067_e0\": (-1000, 1000),\n",
    "    \"EX_cpd00069_e0\": (-1, 1000),\n",
    "    \"EX_cpd00084_e0\": (-2, 1000),\n",
    "    \"EX_cpd00092_e0\": (-0.1, 1000),\n",
    "    \"EX_cpd00099_e0\": (-20, 1000),\n",
    "    \"EX_cpd00104_e0\": (-0.005, 1000),\n",
    "    \"EX_cpd00107_e0\": (-1, 1000),\n",
    "    \"EX_cpd00119_e0\": (-2.5, 1000),\n",
    "    \"EX_cpd00129_e0\": (-1, 1000),\n",
    "    \"EX_cpd00132_e0\": (-2, 1000),\n",
    "    \"EX_cpd00156_e0\": (-1, 1000),\n",
    "    \"EX_cpd00161_e0\": (-1, 1000),\n",
    "    \"EX_cpd00182_e0\": (-0.1, 1000),\n",
    "    \"EX_cpd00184_e0\": (-0.1, 1000),\n",
    "    \"EX_cpd00205_e0\": (-90, 1000),\n",
    "    \"EX_cpd00218_e0\": (-0.001, 1000),\n",
    "    \"EX_cpd00220_e0\": (-0.001, 1000),\n",
    "    \"EX_cpd00254_e0\": (-25, 1000),\n",
    "    \"EX_cpd00305_e0\": (-0.001, 1000),\n",
    "    \"EX_cpd00311_e0\": (-0.1, 1000),\n",
    "    \"EX_cpd00322_e0\": (-2, 1000),\n",
    "    \"EX_cpd00393_e0\": (-0.001, 1000),\n",
    "    \"EX_cpd00588_e0\": (-10, 1000),\n",
    "    \"EX_cpd00644_e0\": (-0.001, 1000),\n",
    "    \"EX_cpd00971_e0\": (-100, 1000),\n",
    "    \"EX_cpd01217_e0\": (-0.1, 1000),\n",
    "    \"EX_cpd10515_e0\": (-0.2, 1000),\n",
    "    \"EX_cpd11606_e0\": (-0.01, 1000),\n",
    "}\n",
    "\n",
    "closed_uptake = [\n",
    "    \"EX_cpd00007_e0\",  # Oxygen\n",
    "]\n",
    "\n",
    "essential = [\n",
    "    \"EX_cpd00034_e0\",  # Zn2+\n",
    "    \"EX_cpd00058_e0\",  # Cu2+\n",
    "    \"EX_cpd00063_e0\",  # Ca2+\n",
    "    \"EX_cpd00149_e0\",  # Co2+\n",
    "    \"EX_cpd10516_e0\",  # fe3\n",
    "]\n",
    "\n",
    "c_sources = [\n",
    "    \"EX_cpd00027_e0\",  # glucose\n",
    "    \"EX_cpd01200_e0\",  # palatinose\n",
    "    \"EX_cpd00076_e0\",  # sucrose\n",
    "    \"EX_cpd00082_e0\",  # fructose\n",
    "]"
   ]
  },
  {
   "cell_type": "code",
   "execution_count": null,
   "metadata": {},
   "outputs": [],
   "source": []
  },
  {
   "cell_type": "markdown",
   "metadata": {},
   "source": [
    "## All Relevant Variables"
   ]
  },
  {
   "cell_type": "code",
   "execution_count": null,
   "metadata": {},
   "outputs": [],
   "source": [
    "lmur_pathorg = PathOrganizer()\n",
    "model_dir = lmur_pathorg.get_model_version_path(mo_name=\"LigilactobacillusMurinus\")\n",
    "model = lmur_pathorg.load_model(model_dir)"
   ]
  },
  {
   "cell_type": "code",
   "execution_count": null,
   "metadata": {},
   "outputs": [],
   "source": [
    "exploration = es()\n",
    "exploration.set_media(\n",
    "    model=model, medium=kwoji, essential=essential, closed=closed_uptake\n",
    ")\n",
    "u, s = exploration.gather_media_fluxes(model=model)\n",
    "\n",
    "dif_u = exploration.find_differences(target_df=u, medium=kwoji)\n",
    "dif_s = exploration.find_differences(target_df=s, medium=kwoji)"
   ]
  },
  {
   "cell_type": "markdown",
   "metadata": {},
   "source": [
    "## Results"
   ]
  },
  {
   "cell_type": "code",
   "execution_count": null,
   "metadata": {},
   "outputs": [],
   "source": [
    "exploration.test_carbon_sources(model=model, carbon_list=c_sources)"
   ]
  },
  {
   "cell_type": "code",
   "execution_count": null,
   "metadata": {},
   "outputs": [],
   "source": [
    "def test():\n",
    "    kwoji_list = list(kwoji.keys())\n",
    "    for c in c_sources:\n",
    "        exploration.set_media(\n",
    "        model=model, medium=kwoji, essential=essential, closed=closed_uptake\n",
    "    )\n",
    "        with model:\n",
    "            c_tgt = model.reactions.get_by_id(c)\n",
    "            c_tgt.bounds = (-1000,1000)\n",
    "            print(f\"{c_tgt.id} --> {c_tgt.name}\")\n",
    "            result_fva = fva(model=model, reaction_list=kwoji_list,fraction_of_optimum=0.95)\n",
    "            display(result_fva)"
   ]
  },
  {
   "cell_type": "code",
   "execution_count": null,
   "metadata": {},
   "outputs": [],
   "source": [
    "test()"
   ]
  },
  {
   "cell_type": "markdown",
   "metadata": {},
   "source": [
    "## Code Guidelines and Whatnot"
   ]
  }
 ],
 "metadata": {
  "kernelspec": {
   "display_name": "Python 3",
   "language": "python",
   "name": "python3"
  },
  "language_info": {
   "codemirror_mode": {
    "name": "ipython",
    "version": 3
   },
   "file_extension": ".py",
   "mimetype": "text/x-python",
   "name": "python",
   "nbconvert_exporter": "python",
   "pygments_lexer": "ipython3",
   "version": "3.10.5"
  }
 },
 "nbformat": 4,
 "nbformat_minor": 2
}
