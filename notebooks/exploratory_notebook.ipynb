{
 "cells": [
  {
   "cell_type": "code",
   "execution_count": null,
   "metadata": {},
   "outputs": [],
   "source": [
    "import notebooks.exploratory_variables as ev\n",
    "\n",
    "\n",
    "# import pandas_settings\n",
    "from src import PathOrganizer\n",
    "from src import Model_Exploration_Tool as ES\n",
    "from src import ExploratoryAid as EA\n",
    "\n",
    "import pandas as pd\n",
    "import numpy as np\n",
    "import seaborn as sns\n",
    "import matplotlib.pyplot as plt\n",
    "import cobra\n",
    "import re\n",
    "\n",
    "# %matplotlib inline\n",
    "\n",
    "pd.set_option(\"display.max_rows\", 500)\n",
    "pd.set_option(\"display.max_columns\", 500)\n",
    "\n",
    "po = PathOrganizer()\n",
    "\n",
    "##############################\n",
    "\n",
    "draftModels = [\n",
    "    \"amuciniphila_draft_xml.xml\",\n",
    "    \"amucosicola_draft_xml.xml\",\n",
    "    \"bcaecimuris_draft_xml.xml\",\n",
    "    \"bpseudococcoides_draft_xml.xml\",\n",
    "    \"cinnocuum_draft_xml.xml\",\n",
    "    \"cramosum_draft_xml.xml\",\n",
    "    \"eclostridioformis_draft_xml.xml\",\n",
    "    \"efaecalis_draft_xml.xml\",\n",
    "    \"ecoli_draft_xml.xml\",\n",
    "    \"emuris_draft_xml.xml\",\n",
    "    \"fplautii_draft_xml.xml\",\n",
    "    \"fbutyricus_draft_xml.xml\",\n",
    "    \"lreuteri_draft_xml.xml\",\n",
    "    \"lmurinus_draft_xml.xml\",\n",
    "    \"mschaedleri_draft_xml.xml\",\n",
    "    \"mintestinale_draft_xml.xml\",\n",
    "    \"pgoldsteinii_draft_xml.xml\",\n",
    "    \"tmuris_draft_xml.xml\",\n",
    "    \"xrodentium_draft_xml.xml\",\n",
    "]"
   ]
  },
  {
   "cell_type": "code",
   "execution_count": null,
   "metadata": {},
   "outputs": [],
   "source": [
    "ea = EA()"
   ]
  },
  {
   "cell_type": "code",
   "execution_count": null,
   "metadata": {},
   "outputs": [],
   "source": [
    "crucial, variable = ea.generate_essentialMetabolites_dictionaries(\n",
    "    targetModels=ev.draftModels,\n",
    "    mediumMetabolites=ev.kwoji_medium,\n",
    "    mediumMetabolitesDataframe=ev.kwoji_medium_df,\n",
    "    closedMetabolites=ev.closed_uptake,\n",
    ")\n",
    "\n",
    "best_eMets = ea.essentialMetabolites_report(\n",
    "    targetModels=ev.draftModels,\n",
    "    mediumMetabolites=ev.kwoji_medium,\n",
    "    mediumMetabolitesDataframe=ev.kwoji_medium_df,\n",
    "    closedMetabolites=ev.closed_uptake,\n",
    "    crucial_eMetabolites=crucial,\n",
    "    variable_eMetabolites=variable,\n",
    ")"
   ]
  },
  {
   "cell_type": "code",
   "execution_count": null,
   "metadata": {},
   "outputs": [],
   "source": [
    "results_MA = (\n",
    "    ea.metabolite_assay_testing(\n",
    "        targetModels=ev.draftModels,\n",
    "        mediumMetabolites=ev.kwoji_medium,\n",
    "        closedMetabolites=ev.closed_uptake,\n",
    "        targetModels_EssentialMetabolites=best_eMets,\n",
    "        assayMetabolitesDataframe=ev.biolog_met_df,\n",
    "        mediumMetabolitesDataframe=ev.kwoji_medium_df,\n",
    "        optimizationType=\"FBA\",\n",
    "    )\n",
    ")"
   ]
  },
  {
   "cell_type": "code",
   "execution_count": null,
   "metadata": {},
   "outputs": [],
   "source": [
    "okay = results_MA.columns.get_level_values(level=0).unique()"
   ]
  },
  {
   "cell_type": "code",
   "execution_count": null,
   "metadata": {},
   "outputs": [],
   "source": [
    "list(okay)\n",
    "\n",
    "for ok in list(okay):\n",
    "    \n",
    "    print(ok)\n",
    "    # display(results_MA[ok])\n",
    "    display(results_MA[ok].sort_values(by=[(\"ATPm\", \"FBA\")], ascending=False,))"
   ]
  },
  {
   "cell_type": "code",
   "execution_count": null,
   "metadata": {},
   "outputs": [],
   "source": [
    "ATPm_target = results_MA.loc[:,([f for f in results_MA.columns.get_level_values(level=0).unique()],\"ATPm\")]"
   ]
  },
  {
   "cell_type": "code",
   "execution_count": null,
   "metadata": {},
   "outputs": [],
   "source": [
    "ATPm_analysis_DF = ATPm_target.droplevel(axis=1, level=1)"
   ]
  },
  {
   "cell_type": "code",
   "execution_count": null,
   "metadata": {},
   "outputs": [],
   "source": [
    "ATPm_analysis_FVA = ATPm_analysis_DF.loc[:, ([f for f in results_MA.columns.get_level_values(level=0).unique()],[\"FVA Min\", \"FVA Max\"])]\n",
    "ATPm_analysis_FBA = ATPm_analysis_DF.loc[:, ([f for f in results_MA.columns.get_level_values(level=0).unique()],[\"FBA\"])].droplevel(axis=1,level=1)"
   ]
  },
  {
   "cell_type": "code",
   "execution_count": null,
   "metadata": {},
   "outputs": [],
   "source": [
    "ATPm_analysis_FBA"
   ]
  },
  {
   "cell_type": "code",
   "execution_count": null,
   "metadata": {},
   "outputs": [],
   "source": [
    "for strain in ATPm_analysis_FBA.columns.unique():\n",
    "    \n",
    "    water = ATPm_analysis_FBA.loc[\"Water\", strain]\n",
    "        \n",
    "    ATPm_analysis_FBA[strain] = np.select(condlist=[ATPm_analysis_FBA[strain] <= water * 1.02, ATPm_analysis_FBA[strain] <= water * 2], choicelist=[0, 1], default=2)\n",
    "    \n",
    "display(ATPm_analysis_FBA)"
   ]
  },
  {
   "cell_type": "code",
   "execution_count": null,
   "metadata": {},
   "outputs": [],
   "source": []
  },
  {
   "cell_type": "code",
   "execution_count": null,
   "metadata": {},
   "outputs": [],
   "source": [
    "import matplotlib.pyplot as plt\n",
    "import matplotlib.colors as colors\n",
    "import seaborn as sns\n",
    "from notebooks import biolog_variables as bv"
   ]
  },
  {
   "cell_type": "code",
   "execution_count": null,
   "metadata": {},
   "outputs": [],
   "source": [
    "okabe_ito_rgb = [\n",
    "    colors.to_rgb(\"#DDDDDD\"),  # light grey\n",
    "    colors.to_rgb(\"#7E2954\"),  # sky blue\n",
    "    colors.to_rgb(\"#009E73\"),  # bluish green\n",
    "]\n",
    "\n",
    "cmap = colors.ListedColormap(okabe_ito_rgb)\n",
    "norm = colors.BoundaryNorm(boundaries=[-0.5, 0.5, 1.5, 2.5], ncolors=3)\n",
    "\n",
    "strain_IDs = ATPm_analysis_FBA.columns.get_level_values(level=0).unique().tolist()\n",
    "strain_names = bv.strain_ids.loc[bv.strain_ids[\"DSMZ-number\"].isin(strain_IDs), \"Strain\"].tolist()"
   ]
  },
  {
   "cell_type": "code",
   "execution_count": null,
   "metadata": {},
   "outputs": [],
   "source": [
    "met_groups = ev.biolog_met_complete_df.loc[:, (\"Metabolite\", \"Group\")]\n",
    "met_groups = met_groups.set_index(\"Metabolite\")\n",
    "\n",
    "group_list = met_groups[\"Group\"].to_list()\n",
    "\n",
    "Group_colors = {\n",
    "        \"Miscellaneous / Other\": \"#000000\",\n",
    "        \"Carbohydrates & Derivatives\": \"#D55E00\",\n",
    "        \"Organic Acids & Derivatives\": \"#56B4E9\",\n",
    "        \"Amino Acids & Peptides\": \"#CC79A7\",\n",
    "        \"Nucleosides & Nucleotides\": \"#0072B2\",\n",
    "    }\n",
    "\n",
    "metGroup_colors = [Group_colors[x] for x in group_list]"
   ]
  },
  {
   "cell_type": "code",
   "execution_count": null,
   "metadata": {},
   "outputs": [],
   "source": [
    "sns.set_theme(rc={\"figure.dpi\": 600})\n",
    "sns.set_theme(rc={\"xtick.bottom\": True, \"ytick.left\": True})\n",
    "sns.set_theme(font_scale=0.75)\n",
    "g = sns.clustermap(\n",
    "    data=ATPm_analysis_FBA.T,\n",
    "    figsize=(17, 6),\n",
    "    annot=False,\n",
    "    dendrogram_ratio=(0.05, 0.2),\n",
    "    col_cluster=False,\n",
    "    yticklabels=strain_names,\n",
    "    row_cluster=False,\n",
    "    cmap=cmap,\n",
    "    norm=norm,\n",
    "    linewidth=0.75,\n",
    "    col_colors=metGroup_colors,\n",
    ")\n",
    "\n",
    "g.ax_cbar.remove()\n",
    "g.ax_heatmap.yaxis.set_ticks_position(\"left\")\n",
    "g.ax_heatmap.yaxis.set_label_position(\"left\")\n",
    "\n",
    "col_pos = g.ax_col_colors.get_position()\n",
    "heatmap_pos = g.ax_heatmap.get_position()\n",
    "\n",
    "# Shift col_colors axis below heatmap\n",
    "g.ax_col_colors.set_position(\n",
    "    [\n",
    "        heatmap_pos.x0,\n",
    "        heatmap_pos.y0 - 0.01,  # small offset\n",
    "        heatmap_pos.width,\n",
    "        col_pos.height,\n",
    "    ]\n",
    ")\n",
    "\n",
    "# Adjust heatmap to shift it up if necessary\n",
    "g.ax_heatmap.set_position(\n",
    "    [\n",
    "        heatmap_pos.x0,\n",
    "        heatmap_pos.y0 + 0.01,\n",
    "        heatmap_pos.width,\n",
    "        heatmap_pos.height,\n",
    "    ]\n",
    ")\n",
    "# g.ax_heatmap.xaxis.set_tick_params(which=\"minor\")\n",
    "\n",
    "g.ax_heatmap.set_xlabel(\n",
    "    \"Metabolites\",\n",
    "    fontdict={\n",
    "        \"size\": 12,\n",
    "        \"weight\": \"bold\",\n",
    "    },\n",
    ")\n",
    "g.ax_heatmap.set_ylabel(\n",
    "    \"Strains\",\n",
    "    fontdict={\n",
    "        \"size\": 12,\n",
    "        \"weight\": \"bold\",\n",
    "    },\n",
    ")\n",
    "\n",
    "plt.show()"
   ]
  }
 ],
 "metadata": {
  "kernelspec": {
   "display_name": ".venv",
   "language": "python",
   "name": "python3"
  },
  "language_info": {
   "codemirror_mode": {
    "name": "ipython",
    "version": 3
   },
   "file_extension": ".py",
   "mimetype": "text/x-python",
   "name": "python",
   "nbconvert_exporter": "python",
   "pygments_lexer": "ipython3",
   "version": "3.10.5"
  }
 },
 "nbformat": 4,
 "nbformat_minor": 2
}
